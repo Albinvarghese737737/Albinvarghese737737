{
  "nbformat": 4,
  "nbformat_minor": 0,
  "metadata": {
    "colab": {
      "provenance": [],
      "authorship_tag": "ABX9TyMvf8ObbssQ1qsVjj2f9Ay4",
      "include_colab_link": true
    },
    "kernelspec": {
      "name": "python3",
      "display_name": "Python 3"
    },
    "language_info": {
      "name": "python"
    }
  },
  "cells": [
    {
      "cell_type": "markdown",
      "metadata": {
        "id": "view-in-github",
        "colab_type": "text"
      },
      "source": [
        "<a href=\"https://colab.research.google.com/github/Albinvarghese737737/Albinvarghese737737/blob/main/trip_calculator.ipynb\" target=\"_parent\"><img src=\"https://colab.research.google.com/assets/colab-badge.svg\" alt=\"Open In Colab\"/></a>"
      ]
    },
    {
      "cell_type": "code",
      "execution_count": null,
      "metadata": {
        "id": "7XLNgCXwGvfo"
      },
      "outputs": [],
      "source": [
        "# trip calculator\n",
        "\n",
        "print(\"\\nWelcome to trip calculator.\\n\")\n",
        "no_of_people = int(input(\"how many buddies were there on this trip :\"))\n",
        "\n",
        "names_of_people = []\n",
        "contributions = []\n",
        "contribution_of_each = {}\n",
        "\n",
        "for x in range(1, no_of_people+1):\n",
        "  name = input(f\"\\nEnter name of team member {x}\\n\")\n",
        "  names_of_people.append(name)\n",
        "  contribution = int(input(f\"Howmuch {name} contributed ? \"))\n",
        "  contributions.append(contribution)\n",
        "  contribution_of_each[name] = contribution\n",
        "#print(contribution_of_each)\n",
        "\n",
        "total_expense = sum(contributions)\n",
        "expense_per_head = total_expense/no_of_people\n",
        "#print(expense_per_head)\n",
        "\n",
        "to_settle = []\n",
        "\n",
        "for x in contributions:\n",
        "  balance = round(expense_per_head - x)\n",
        "  to_settle.append(balance)\n",
        "\n",
        "'''for x in range(no_of_people):\n",
        "  if to_settle[x] < 0 :\n",
        "    print(f\"\\n{names_of_people[x]} has to receive {abs(to_settle[x])} rupees. \")\n",
        "  elif to_settle[x] > 0 :\n",
        "    print(f\"\\n{names_of_people[x]} has to pay {abs(to_settle[x])} rupees. \")'''\n",
        "\n",
        "#seperating people name on the basis of the money they has to receive/pay\n",
        "extra_paid_names = []\n",
        "extra_paid_amounts = []\n",
        "\n",
        "less_paid_names = []\n",
        "less_paid_amounts = [] #amount has to payback, +ve values\n",
        "\n",
        "for x in range(no_of_people) :\n",
        "  amount = to_settle[x]\n",
        "  if amount < 0:\n",
        "    extra_paid_amounts.append(abs(amount))\n",
        "    extra_paid_names.append(names_of_people[x])\n",
        "  if amount > 0:\n",
        "    less_paid_amounts.append(amount)\n",
        "    less_paid_names.append(names_of_people[x])\n",
        "\n",
        "\n",
        "def deleting_list():\n",
        "  if less_paid_amounts[0] == 0:\n",
        "    del less_paid_amounts[0]\n",
        "    del less_paid_names[0]\n",
        "  if extra_paid_amounts[0] == 0:\n",
        "    del extra_paid_amounts[0]\n",
        "    del extra_paid_names[0]\n",
        "\n",
        "\n",
        "while len(less_paid_amounts) != 0:\n",
        "  if less_paid_amounts[0] < extra_paid_amounts[0] or less_paid_amounts[0] == extra_paid_amounts[0] :\n",
        "    print(f\"\\n{less_paid_names[0]} has to pay rupees {less_paid_amounts[0]} to {extra_paid_names[0]}\")\n",
        "    extra_paid_amounts[0] = extra_paid_amounts[0] - less_paid_amounts[0]\n",
        "    less_paid_amounts[0] -= less_paid_amounts[0]\n",
        "    deleting_list()\n",
        "\n",
        "  elif less_paid_amounts[0] > extra_paid_amounts[0]:\n",
        "    print(f\"\\n{less_paid_names[0]} has to pay rupees {extra_paid_amounts[0]} to {extra_paid_names[0]}\")\n",
        "    less_paid_amounts[0] = less_paid_amounts[0] - extra_paid_amounts[0]\n",
        "    extra_paid_amounts[0] -= extra_paid_amounts[0]\n",
        "    deleting_list()\n",
        "\n",
        "\n",
        "\n",
        "\n",
        "\n"
      ]
    }
  ]
}